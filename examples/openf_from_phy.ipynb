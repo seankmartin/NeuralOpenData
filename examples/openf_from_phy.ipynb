{
  "cells": [
    {
      "cell_type": "markdown",
      "metadata": {
        "id": "c09WIktzJIev"
      },
      "source": [
        "## Import and plot waveforms from Phy"
      ]
    },
    {
      "cell_type": "code",
      "execution_count": null,
      "metadata": {},
      "outputs": [],
      "source": [
        "#!pip install skm_pyutils"
      ]
    },
    {
      "cell_type": "code",
      "execution_count": null,
      "metadata": {
        "execution": {
          "iopub.execute_input": "2022-04-12T09:58:09.893Z",
          "iopub.status.busy": "2022-04-12T09:58:09.886Z",
          "iopub.status.idle": "2022-04-12T09:58:10.386Z",
          "shell.execute_reply": "2022-04-12T09:58:10.375Z"
        },
        "executionInfo": {
          "elapsed": 722,
          "status": "ok",
          "timestamp": 1649750974607,
          "user": {
            "displayName": "Matheus Oliveira",
            "userId": "02063013079245052663"
          },
          "user_tz": -60
        },
        "id": "uvL24lA1__U1"
      },
      "outputs": [],
      "source": [
        "from pathlib import Path\n",
        "\n",
        "import numpy as np\n",
        "import pandas as pd\n",
        "import matplotlib.pyplot as plt\n",
        "from skm_pyutils import py_plot"
      ]
    },
    {
      "cell_type": "code",
      "execution_count": null,
      "metadata": {
        "execution": {
          "iopub.execute_input": "2022-04-12T09:58:10.403Z",
          "iopub.status.busy": "2022-04-12T09:58:10.397Z",
          "iopub.status.idle": "2022-04-12T09:58:10.415Z",
          "shell.execute_reply": "2022-04-12T09:58:10.676Z"
        },
        "executionInfo": {
          "elapsed": 195,
          "status": "ok",
          "timestamp": 1649751476886,
          "user": {
            "displayName": "Matheus Oliveira",
            "userId": "02063013079245052663"
          },
          "user_tz": -60
        },
        "id": "SwRQH2tTJJr4"
      },
      "outputs": [],
      "source": [
        "path = Path(\"E:\\Temp\\Matheus\\HUMAN 257_newslice2_new.GUI\")\n",
        "recording_path = Path(\"E:\\Temp\\Matheus\\raw.bin\")"
      ]
    },
    {
      "cell_type": "code",
      "execution_count": null,
      "metadata": {
        "execution": {
          "iopub.execute_input": "2022-04-12T09:58:10.435Z",
          "iopub.status.busy": "2022-04-12T09:58:10.426Z",
          "iopub.status.idle": "2022-04-12T09:58:10.446Z",
          "shell.execute_reply": "2022-04-12T09:58:10.681Z"
        },
        "executionInfo": {
          "elapsed": 195,
          "status": "ok",
          "timestamp": 1649755208937,
          "user": {
            "displayName": "Matheus Oliveira",
            "userId": "02063013079245052663"
          },
          "user_tz": -60
        },
        "id": "En0PQBVCJJpH"
      },
      "outputs": [],
      "source": [
        "amplitudes = np.load(path / \"amplitudes.npy\")\n",
        "spike_times = np.load(path / \"spike_times.npy\")\n",
        "spike_clusters = np.load(path / \"spike_clusters.npy\")\n",
        "clusters = pd.read_csv(path / \"cluster_group.tsv\", delimiter=\"\\t\")\n",
        "groups = clusters.loc[clusters.group == \"good\"].cluster_id.values\n"
      ]
    },
    {
      "cell_type": "code",
      "execution_count": 24,
      "metadata": {
        "colab": {
          "base_uri": "https://localhost:8080/"
        },
        "execution": {
          "iopub.execute_input": "2022-04-12T09:58:10.484Z",
          "iopub.status.busy": "2022-04-12T09:58:10.473Z",
          "iopub.status.idle": "2022-04-12T09:58:10.511Z",
          "shell.execute_reply": "2022-04-12T09:58:10.686Z"
        },
        "executionInfo": {
          "elapsed": 249,
          "status": "ok",
          "timestamp": 1649755229268,
          "user": {
            "displayName": "Matheus Oliveira",
            "userId": "02063013079245052663"
          },
          "user_tz": -60
        },
        "id": "qNJdsXhMEeJb",
        "outputId": "61f99757-87f5-4fe6-c045-2cca7bc5f012"
      },
      "outputs": [
        {
          "data": {
            "text/plain": [
              "array([  7,  13,  23,  26,  28,  30,  33,  35,  36,  38,  39,  44,  50,\n",
              "        60,  66,  67,  73,  82,  84,  85,  86,  87,  91,  96,  98,  99,\n",
              "       104, 105], dtype=int64)"
            ]
          },
          "execution_count": 24,
          "metadata": {},
          "output_type": "execute_result"
        }
      ],
      "source": [
        "# Clusters marked as good\n",
        "groups"
      ]
    },
    {
      "cell_type": "code",
      "execution_count": null,
      "metadata": {
        "execution": {
          "iopub.execute_input": "2022-04-12T09:58:10.539Z",
          "iopub.status.busy": "2022-04-12T09:58:10.529Z",
          "iopub.status.idle": "2022-04-12T09:58:10.558Z",
          "shell.execute_reply": "2022-04-12T09:58:10.690Z"
        },
        "executionInfo": {
          "elapsed": 1,
          "status": "ok",
          "timestamp": 1649755414195,
          "user": {
            "displayName": "Matheus Oliveira",
            "userId": "02063013079245052663"
          },
          "user_tz": -60
        },
        "id": "orZonTAw4nbh"
      },
      "outputs": [],
      "source": [
        "# get spike times for group 7\n",
        "sample_spike = spike_times[spike_clusters == groups[0]]\n",
        "# Get a sample of 100 spikes\n",
        "spk_sample = np.random.choice(sample_spike, size=100, replace=False)"
      ]
    },
    {
      "cell_type": "code",
      "execution_count": null,
      "metadata": {
        "execution": {
          "iopub.execute_input": "2022-04-12T09:58:10.584Z",
          "iopub.status.busy": "2022-04-12T09:58:10.574Z",
          "iopub.status.idle": "2022-04-12T09:58:10.599Z",
          "shell.execute_reply": "2022-04-12T09:58:10.693Z"
        },
        "id": "Hc2TX9v8JJU4"
      },
      "outputs": [],
      "source": [
        "spk_sample"
      ]
    },
    {
      "cell_type": "code",
      "execution_count": null,
      "metadata": {
        "collapsed": true,
        "execution": {
          "iopub.execute_input": "2022-04-12T09:58:10.618Z",
          "iopub.status.busy": "2022-04-12T09:58:10.610Z",
          "iopub.status.idle": "2022-04-12T09:58:10.630Z",
          "shell.execute_reply": "2022-04-12T09:58:10.697Z"
        },
        "jupyter": {
          "outputs_hidden": false,
          "source_hidden": false
        },
        "nteract": {
          "transient": {
            "deleting": false
          }
        }
      },
      "outputs": [],
      "source": [
        "def load_phy(raw_data_folder, sorting_folder):\n",
        "    \"\"\"Use spikeinterface to load a phy clustering.\"\"\"\n",
        "    import spikeinterface.extractors as se\n",
        "\n",
        "    to_exclude = [\"mua\", \"noise\"]\n",
        "    return se.SpykingCircusRecordingExtractor(raw_data_folder), se.PhySortingExtractor(\n",
        "        sorting_folder, exclude_cluster_groups=to_exclude\n",
        "    )\n",
        "\n",
        "\n",
        "def load_phy_forms(recording_folder, sorting, cache_dir, **kwargs):\n",
        "    \"\"\"See extract_waveforms in spikeinterface for kwargs\"\"\"\n",
        "    import spikeinterface as si\n",
        "\n",
        "    ms_before = kwargs.pop(\"ms_before\", 3.0)\n",
        "    ms_after = kwargs.pop(\"ms_after\", 4.0)\n",
        "    max_spikes_per_unit = kwargs.pop(\"max_spikes_per_unit\", 500)\n",
        "    si.extract_waveforms(\n",
        "        recording_folder,\n",
        "        sorting,\n",
        "        cache_dir,\n",
        "        ms_before=ms_before,\n",
        "        ms_after=ms_after,\n",
        "        max_spikes_per_unit=max_spikes_per_unit,\n",
        "        load_if_exists=False,\n",
        "        overwrite=True,\n",
        "        **kwargs\n",
        "    )\n",
        "\n",
        "# IM not sure if this will fully work in current form, probably needs modification\n",
        "def plot_all_forms(sorting, waveforms, out_loc, channels_per_group=64):\n",
        "    \"\"\"Plot all waveforms from a spikeinterface sorting object.\"\"\"\n",
        "    unit_ids = sorting.get_unit_ids()\n",
        "    wf_by_group = [waveforms.get_waveforms(u) for u in unit_ids]\n",
        "    for i, wf in enumerate(wf_by_group):\n",
        "        try:\n",
        "            tetrode = sorting.get_unit_property(unit_ids[i], \"group\")\n",
        "        except Exception:\n",
        "            try:\n",
        "                tetrode = sorting.get_unit_property(unit_ids[i], \"ch_group\")\n",
        "            except Exception:\n",
        "                print(\"Unable to find cluster group or group in units\")\n",
        "                print(sorting.get_shared_unit_property_names())\n",
        "                return\n",
        "\n",
        "        fig, axes = plt.subplots(channels_per_group)\n",
        "        for j in range(channels_per_group):\n",
        "            try:\n",
        "                wave = wf[:, j, :]\n",
        "            except Exception:\n",
        "                wave = wf[j, :]\n",
        "            axes[j].plot(wave.T, color=\"k\", lw=0.3)\n",
        "        o_loc = out_loc / \"tet{}_unit{}_forms.png\".format(tetrode, unit_ids[i])\n",
        "        print(\"Saving waveform {} on tetrode {} to {}\".format(i, tetrode, o_loc))\n",
        "        fig.savefig(o_loc, dpi=200)\n",
        "        plt.close(\"all\")\n",
        "\n",
        "# This should probably work though\n",
        "def plot_all_templates(sorting, waveforms, out_loc):\n",
        "    unit_ids = sorting.get_unit_ids()\n",
        "    wf_by_group = [waveforms.template(u) for u in unit_ids]\n",
        "    for wf, unit_id in zip(unit_ids, wf_by_group):\n",
        "        fig, ax = plt.subplots()\n",
        "        colors = py_plot.ColorManager(wf.shape[1], \"rgb\")\n",
        "        # iterate over channels\n",
        "        for i in range(wf.shape[1]):\n",
        "            ax.plot(wf[:, i].T, color=colors.get_next_color(), lw=3)\n",
        "        o_loc = out_loc / \"channel{}_unit{}_forms.png\".format(i, unit_id)\n",
        "        print(\"Saving unit {} template to {}\".format(unit_id, o_loc))\n",
        "        fig.savefig(o_loc, dpi=200)\n",
        "        plt.close(fig)"
      ]
    },
    {
      "cell_type": "code",
      "execution_count": null,
      "metadata": {},
      "outputs": [],
      "source": [
        "figure_dir = path / \"figures\"\n",
        "(figure_dir).mkdir(exist_ok=True)\n",
        "waveform_dir = path / \"waveforms\""
      ]
    },
    {
      "cell_type": "code",
      "execution_count": 23,
      "metadata": {},
      "outputs": [
        {
          "data": {
            "text/plain": [
              "PhySortingExtractor: 28 units - 1 segments - 25.0kHz"
            ]
          },
          "execution_count": 23,
          "metadata": {},
          "output_type": "execute_result"
        }
      ],
      "source": [
        "import spikeinterface.extractors as se\n",
        "to_exclude = [\"mua\", \"noise\"]\n",
        "sorting = se.PhySortingExtractor(\n",
        "    path, exclude_cluster_groups=to_exclude\n",
        ")"
      ]
    },
    {
      "cell_type": "code",
      "execution_count": 30,
      "metadata": {},
      "outputs": [
        {
          "name": "stdout",
          "output_type": "stream",
          "text": [
            "[  7  13  23  26  28  30  33  35  36  38  39  44  50  60  66  67  73  82\n",
            "  84  85  86  87  91  96  98  99 104 105]\n",
            "[ 22566332  97155567 100627241 ... 167850112 167885734 168057746]\n",
            "[ 22566332  97155567 100627241 ... 167850112 167885734 168057746]\n"
          ]
        }
      ],
      "source": [
        "print(sorting.get_unit_ids())\n",
        "print(sorting.get_unit_spike_train(7))\n",
        "print(spike_times[spike_clusters == 7])"
      ]
    },
    {
      "cell_type": "code",
      "execution_count": null,
      "metadata": {
        "collapsed": true,
        "execution": {
          "iopub.execute_input": "2022-04-12T09:58:10.659Z",
          "iopub.status.busy": "2022-04-12T09:58:10.650Z"
        },
        "jupyter": {
          "outputs_hidden": false,
          "source_hidden": false
        },
        "nteract": {
          "transient": {
            "deleting": false
          }
        }
      },
      "outputs": [],
      "source": [
        "recording, sorting = load_phy(recording_path, path)\n",
        "waveforms = load_phy_forms(\n",
        "    recording,\n",
        "    sorting,\n",
        "    waveform_dir,\n",
        "    ms_before=1,\n",
        "    ms_after=2,\n",
        "    max_spikes_per_unit=600,\n",
        "    n_jobs=1,\n",
        "    chunk_size=30000,\n",
        ")\n",
        "\n",
        "#Probably won;t work\n",
        "# plot_all_forms(sorting, waveforms, figure_dir, channels_per_group=4)\n",
        "\n",
        "# might work\n",
        "plot_all_templates(sorting, waveforms, figure_dir)"
      ]
    }
  ],
  "metadata": {
    "colab": {
      "authorship_tag": "ABX9TyMBUJmdRzl3mhyRL8pYUR4W",
      "collapsed_sections": [],
      "machine_shape": "hm",
      "mount_file_id": "1Vl0YtKBIcjNBFDxDoVZI1iz10go0dySW",
      "name": "openf_from_phy.ipynb",
      "provenance": []
    },
    "kernelspec": {
      "display_name": "Python 3",
      "name": "python3"
    },
    "language_info": {
      "codemirror_mode": {
        "name": "ipython",
        "version": 3
      },
      "file_extension": ".py",
      "mimetype": "text/x-python",
      "name": "python",
      "nbconvert_exporter": "python",
      "pygments_lexer": "ipython3",
      "version": "3.8.0"
    },
    "nteract": {
      "version": "0.28.0"
    }
  },
  "nbformat": 4,
  "nbformat_minor": 0
}
